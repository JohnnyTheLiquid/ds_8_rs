{
 "cells": [
  {
   "cell_type": "markdown",
   "metadata": {},
   "source": [
    "Домашняя работа к лекции 2 по курсу Рекомендательные системы.\n",
    "---------\n",
    "**Рекомендации на основе содержания**\n",
    "\n",
    "Студента: **Помойницкого Евгения**\n",
    "\n",
    "Группа: **DS 8**"
   ]
  },
  {
   "cell_type": "markdown",
   "metadata": {},
   "source": [
    "ДЗ - Требуется построить модель рекомендаций на основе скрытых факторов (implicit) на основе dataset’а https://grouplens.org/datasets/hetrec-2011/ (Delicious Bookmarks)”"
   ]
  },
  {
   "cell_type": "code",
   "execution_count": 40,
   "metadata": {},
   "outputs": [],
   "source": [
    "import pandas as pd\n",
    "import numpy as np\n",
    "import scipy.sparse as sparse\n",
    "\n",
    "from implicit.als import AlternatingLeastSquares"
   ]
  },
  {
   "cell_type": "markdown",
   "metadata": {},
   "source": [
    "Попробуем понять, что за данные у нас на входе, в чем их смысл."
   ]
  },
  {
   "cell_type": "code",
   "execution_count": 195,
   "metadata": {},
   "outputs": [
    {
     "data": {
      "text/html": [
       "<div>\n",
       "<style scoped>\n",
       "    .dataframe tbody tr th:only-of-type {\n",
       "        vertical-align: middle;\n",
       "    }\n",
       "\n",
       "    .dataframe tbody tr th {\n",
       "        vertical-align: top;\n",
       "    }\n",
       "\n",
       "    .dataframe thead th {\n",
       "        text-align: right;\n",
       "    }\n",
       "</style>\n",
       "<table border=\"1\" class=\"dataframe\">\n",
       "  <thead>\n",
       "    <tr style=\"text-align: right;\">\n",
       "      <th></th>\n",
       "      <th>id</th>\n",
       "      <th>md5</th>\n",
       "      <th>title</th>\n",
       "      <th>url</th>\n",
       "      <th>md5Principal</th>\n",
       "      <th>urlPrincipal</th>\n",
       "    </tr>\n",
       "  </thead>\n",
       "  <tbody>\n",
       "    <tr>\n",
       "      <th>0</th>\n",
       "      <td>1</td>\n",
       "      <td>ab4954b633ddaf5b5bba6e9b71aa6b70</td>\n",
       "      <td>IFLA - The official website of the Internation...</td>\n",
       "      <td>http://www.ifla.org/</td>\n",
       "      <td>7f431306c428457bc4e12b15634484f</td>\n",
       "      <td>www.ifla.org</td>\n",
       "    </tr>\n",
       "    <tr>\n",
       "      <th>1</th>\n",
       "      <td>2</td>\n",
       "      <td>2221e9cd106d269dd34682666f576fa3</td>\n",
       "      <td>gcdp-e.pdf (application/pdf Object)</td>\n",
       "      <td>http://archive.ifla.org/VII/s14/nd1/gcdp-e.pdf</td>\n",
       "      <td>1ef8cfcfe968101fa9b4e301847503d4</td>\n",
       "      <td>archive.ifla.org</td>\n",
       "    </tr>\n",
       "    <tr>\n",
       "      <th>2</th>\n",
       "      <td>7</td>\n",
       "      <td>c97c571dadaddbbb493126a0d4d01ba3</td>\n",
       "      <td>EdSelect</td>\n",
       "      <td>http://www.edselect.com/</td>\n",
       "      <td>792fd7eb20143386d0c4eb193c6124d</td>\n",
       "      <td>www.edselect.com</td>\n",
       "    </tr>\n",
       "    <tr>\n",
       "      <th>3</th>\n",
       "      <td>8</td>\n",
       "      <td>25bfe8dca0ef263ec9c341b9f16c38b5</td>\n",
       "      <td>Cool Canada (Collections Canada)</td>\n",
       "      <td>http://www.collectionscanada.gc.ca/cool/index-...</td>\n",
       "      <td>6fce4f6391516f0732531d9cfacda5b7</td>\n",
       "      <td>www.collectionscanada.gc.ca</td>\n",
       "    </tr>\n",
       "    <tr>\n",
       "      <th>4</th>\n",
       "      <td>9</td>\n",
       "      <td>c97284629e17b8e2861afaacd59918bc</td>\n",
       "      <td>Kidsreads.com</td>\n",
       "      <td>http://www.kidsreads.com/</td>\n",
       "      <td>5854ce8404857a45373eea01a3d98000</td>\n",
       "      <td>www.kidsreads.com</td>\n",
       "    </tr>\n",
       "  </tbody>\n",
       "</table>\n",
       "</div>"
      ],
      "text/plain": [
       "   id                               md5  \\\n",
       "0   1  ab4954b633ddaf5b5bba6e9b71aa6b70   \n",
       "1   2  2221e9cd106d269dd34682666f576fa3   \n",
       "2   7  c97c571dadaddbbb493126a0d4d01ba3   \n",
       "3   8  25bfe8dca0ef263ec9c341b9f16c38b5   \n",
       "4   9  c97284629e17b8e2861afaacd59918bc   \n",
       "\n",
       "                                               title  \\\n",
       "0  IFLA - The official website of the Internation...   \n",
       "1                gcdp-e.pdf (application/pdf Object)   \n",
       "2                                           EdSelect   \n",
       "3                   Cool Canada (Collections Canada)   \n",
       "4                                      Kidsreads.com   \n",
       "\n",
       "                                                 url  \\\n",
       "0                               http://www.ifla.org/   \n",
       "1     http://archive.ifla.org/VII/s14/nd1/gcdp-e.pdf   \n",
       "2                           http://www.edselect.com/   \n",
       "3  http://www.collectionscanada.gc.ca/cool/index-...   \n",
       "4                          http://www.kidsreads.com/   \n",
       "\n",
       "                       md5Principal                 urlPrincipal  \n",
       "0   7f431306c428457bc4e12b15634484f                 www.ifla.org  \n",
       "1  1ef8cfcfe968101fa9b4e301847503d4             archive.ifla.org  \n",
       "2   792fd7eb20143386d0c4eb193c6124d             www.edselect.com  \n",
       "3  6fce4f6391516f0732531d9cfacda5b7  www.collectionscanada.gc.ca  \n",
       "4  5854ce8404857a45373eea01a3d98000            www.kidsreads.com  "
      ]
     },
     "execution_count": 195,
     "metadata": {},
     "output_type": "execute_result"
    }
   ],
   "source": [
    "bookmarks = pd.read_table('bookmarks.dat', sep='\\t', encoding='latin-1')\n",
    "bookmarks.head()"
   ]
  },
  {
   "cell_type": "markdown",
   "metadata": {},
   "source": [
    "Адрес страницы - целевая фича, значение которой мы в итоге должны будем рекомендовать пользвателю. \n",
    "\n",
    "В таблице есть готовая колонка 'id', возможно это уже готовый идентификатор, который можно будет использовать в матрице. Проверим. Для этого сгруппируем по 'id' с подсчетом количества значений. "
   ]
  },
  {
   "cell_type": "code",
   "execution_count": 15,
   "metadata": {},
   "outputs": [
    {
     "data": {
      "text/html": [
       "<div>\n",
       "<style scoped>\n",
       "    .dataframe tbody tr th:only-of-type {\n",
       "        vertical-align: middle;\n",
       "    }\n",
       "\n",
       "    .dataframe tbody tr th {\n",
       "        vertical-align: top;\n",
       "    }\n",
       "\n",
       "    .dataframe thead th {\n",
       "        text-align: right;\n",
       "    }\n",
       "</style>\n",
       "<table border=\"1\" class=\"dataframe\">\n",
       "  <thead>\n",
       "    <tr style=\"text-align: right;\">\n",
       "      <th></th>\n",
       "      <th>md5</th>\n",
       "      <th>title</th>\n",
       "      <th>url</th>\n",
       "      <th>md5Principal</th>\n",
       "      <th>urlPrincipal</th>\n",
       "    </tr>\n",
       "    <tr>\n",
       "      <th>id</th>\n",
       "      <th></th>\n",
       "      <th></th>\n",
       "      <th></th>\n",
       "      <th></th>\n",
       "      <th></th>\n",
       "    </tr>\n",
       "  </thead>\n",
       "  <tbody>\n",
       "    <tr>\n",
       "      <th>1</th>\n",
       "      <td>1</td>\n",
       "      <td>1</td>\n",
       "      <td>1</td>\n",
       "      <td>1</td>\n",
       "      <td>1</td>\n",
       "    </tr>\n",
       "    <tr>\n",
       "      <th>70565</th>\n",
       "      <td>1</td>\n",
       "      <td>1</td>\n",
       "      <td>1</td>\n",
       "      <td>1</td>\n",
       "      <td>1</td>\n",
       "    </tr>\n",
       "    <tr>\n",
       "      <th>70543</th>\n",
       "      <td>1</td>\n",
       "      <td>1</td>\n",
       "      <td>1</td>\n",
       "      <td>1</td>\n",
       "      <td>1</td>\n",
       "    </tr>\n",
       "    <tr>\n",
       "      <th>70544</th>\n",
       "      <td>1</td>\n",
       "      <td>1</td>\n",
       "      <td>1</td>\n",
       "      <td>1</td>\n",
       "      <td>1</td>\n",
       "    </tr>\n",
       "    <tr>\n",
       "      <th>70545</th>\n",
       "      <td>1</td>\n",
       "      <td>1</td>\n",
       "      <td>1</td>\n",
       "      <td>1</td>\n",
       "      <td>1</td>\n",
       "    </tr>\n",
       "    <tr>\n",
       "      <th>...</th>\n",
       "      <td>...</td>\n",
       "      <td>...</td>\n",
       "      <td>...</td>\n",
       "      <td>...</td>\n",
       "      <td>...</td>\n",
       "    </tr>\n",
       "    <tr>\n",
       "      <th>33882</th>\n",
       "      <td>1</td>\n",
       "      <td>1</td>\n",
       "      <td>1</td>\n",
       "      <td>1</td>\n",
       "      <td>1</td>\n",
       "    </tr>\n",
       "    <tr>\n",
       "      <th>33883</th>\n",
       "      <td>1</td>\n",
       "      <td>1</td>\n",
       "      <td>1</td>\n",
       "      <td>1</td>\n",
       "      <td>1</td>\n",
       "    </tr>\n",
       "    <tr>\n",
       "      <th>33884</th>\n",
       "      <td>1</td>\n",
       "      <td>1</td>\n",
       "      <td>1</td>\n",
       "      <td>1</td>\n",
       "      <td>1</td>\n",
       "    </tr>\n",
       "    <tr>\n",
       "      <th>33885</th>\n",
       "      <td>1</td>\n",
       "      <td>1</td>\n",
       "      <td>1</td>\n",
       "      <td>1</td>\n",
       "      <td>1</td>\n",
       "    </tr>\n",
       "    <tr>\n",
       "      <th>107253</th>\n",
       "      <td>1</td>\n",
       "      <td>1</td>\n",
       "      <td>1</td>\n",
       "      <td>1</td>\n",
       "      <td>1</td>\n",
       "    </tr>\n",
       "  </tbody>\n",
       "</table>\n",
       "<p>69226 rows × 5 columns</p>\n",
       "</div>"
      ],
      "text/plain": [
       "        md5  title  url  md5Principal  urlPrincipal\n",
       "id                                                 \n",
       "1         1      1    1             1             1\n",
       "70565     1      1    1             1             1\n",
       "70543     1      1    1             1             1\n",
       "70544     1      1    1             1             1\n",
       "70545     1      1    1             1             1\n",
       "...     ...    ...  ...           ...           ...\n",
       "33882     1      1    1             1             1\n",
       "33883     1      1    1             1             1\n",
       "33884     1      1    1             1             1\n",
       "33885     1      1    1             1             1\n",
       "107253    1      1    1             1             1\n",
       "\n",
       "[69226 rows x 5 columns]"
      ]
     },
     "execution_count": 15,
     "metadata": {},
     "output_type": "execute_result"
    }
   ],
   "source": [
    "bookmarks.groupby('id').count().sort_values('urlPrincipal', ascending=False)"
   ]
  },
  {
   "cell_type": "code",
   "execution_count": 93,
   "metadata": {},
   "outputs": [
    {
     "data": {
      "text/html": [
       "<div>\n",
       "<style scoped>\n",
       "    .dataframe tbody tr th:only-of-type {\n",
       "        vertical-align: middle;\n",
       "    }\n",
       "\n",
       "    .dataframe tbody tr th {\n",
       "        vertical-align: top;\n",
       "    }\n",
       "\n",
       "    .dataframe thead th {\n",
       "        text-align: right;\n",
       "    }\n",
       "</style>\n",
       "<table border=\"1\" class=\"dataframe\">\n",
       "  <thead>\n",
       "    <tr style=\"text-align: right;\">\n",
       "      <th></th>\n",
       "      <th>id</th>\n",
       "      <th>md5</th>\n",
       "      <th>title</th>\n",
       "      <th>url</th>\n",
       "      <th>md5Principal</th>\n",
       "    </tr>\n",
       "    <tr>\n",
       "      <th>urlPrincipal</th>\n",
       "      <th></th>\n",
       "      <th></th>\n",
       "      <th></th>\n",
       "      <th></th>\n",
       "      <th></th>\n",
       "    </tr>\n",
       "  </thead>\n",
       "  <tbody>\n",
       "    <tr>\n",
       "      <th>www.youtube.com</th>\n",
       "      <td>1048</td>\n",
       "      <td>1048</td>\n",
       "      <td>1048</td>\n",
       "      <td>1048</td>\n",
       "      <td>1048</td>\n",
       "    </tr>\n",
       "    <tr>\n",
       "      <th>www.nytimes.com</th>\n",
       "      <td>639</td>\n",
       "      <td>639</td>\n",
       "      <td>639</td>\n",
       "      <td>639</td>\n",
       "      <td>639</td>\n",
       "    </tr>\n",
       "    <tr>\n",
       "      <th>en.wikipedia.org</th>\n",
       "      <td>585</td>\n",
       "      <td>585</td>\n",
       "      <td>585</td>\n",
       "      <td>585</td>\n",
       "      <td>585</td>\n",
       "    </tr>\n",
       "    <tr>\n",
       "      <th>www.guardian.co.uk</th>\n",
       "      <td>484</td>\n",
       "      <td>484</td>\n",
       "      <td>484</td>\n",
       "      <td>484</td>\n",
       "      <td>484</td>\n",
       "    </tr>\n",
       "    <tr>\n",
       "      <th>mashable.com</th>\n",
       "      <td>449</td>\n",
       "      <td>449</td>\n",
       "      <td>449</td>\n",
       "      <td>449</td>\n",
       "      <td>449</td>\n",
       "    </tr>\n",
       "    <tr>\n",
       "      <th>...</th>\n",
       "      <td>...</td>\n",
       "      <td>...</td>\n",
       "      <td>...</td>\n",
       "      <td>...</td>\n",
       "      <td>...</td>\n",
       "    </tr>\n",
       "    <tr>\n",
       "      <th>sjl.funnyordie.com</th>\n",
       "      <td>1</td>\n",
       "      <td>1</td>\n",
       "      <td>1</td>\n",
       "      <td>1</td>\n",
       "      <td>1</td>\n",
       "    </tr>\n",
       "    <tr>\n",
       "      <th>sjctechtimes.wordpress.com</th>\n",
       "      <td>1</td>\n",
       "      <td>1</td>\n",
       "      <td>1</td>\n",
       "      <td>1</td>\n",
       "      <td>1</td>\n",
       "    </tr>\n",
       "    <tr>\n",
       "      <th>sixpillarstopersia.wordpress.com</th>\n",
       "      <td>1</td>\n",
       "      <td>1</td>\n",
       "      <td>1</td>\n",
       "      <td>1</td>\n",
       "      <td>1</td>\n",
       "    </tr>\n",
       "    <tr>\n",
       "      <th>sixfoottallrabbit.co.uk</th>\n",
       "      <td>1</td>\n",
       "      <td>1</td>\n",
       "      <td>1</td>\n",
       "      <td>1</td>\n",
       "      <td>1</td>\n",
       "    </tr>\n",
       "    <tr>\n",
       "      <th>zzt.nodejitsu.com</th>\n",
       "      <td>1</td>\n",
       "      <td>1</td>\n",
       "      <td>1</td>\n",
       "      <td>1</td>\n",
       "      <td>1</td>\n",
       "    </tr>\n",
       "  </tbody>\n",
       "</table>\n",
       "<p>38581 rows × 5 columns</p>\n",
       "</div>"
      ],
      "text/plain": [
       "                                    id   md5  title   url  md5Principal\n",
       "urlPrincipal                                                           \n",
       "www.youtube.com                   1048  1048   1048  1048          1048\n",
       "www.nytimes.com                    639   639    639   639           639\n",
       "en.wikipedia.org                   585   585    585   585           585\n",
       "www.guardian.co.uk                 484   484    484   484           484\n",
       "mashable.com                       449   449    449   449           449\n",
       "...                                ...   ...    ...   ...           ...\n",
       "sjl.funnyordie.com                   1     1      1     1             1\n",
       "sjctechtimes.wordpress.com           1     1      1     1             1\n",
       "sixpillarstopersia.wordpress.com     1     1      1     1             1\n",
       "sixfoottallrabbit.co.uk              1     1      1     1             1\n",
       "zzt.nodejitsu.com                    1     1      1     1             1\n",
       "\n",
       "[38581 rows x 5 columns]"
      ]
     },
     "execution_count": 93,
     "metadata": {},
     "output_type": "execute_result"
    }
   ],
   "source": [
    "bookmarks.groupby('urlPrincipal').count().sort_values('id', ascending=False)"
   ]
  },
  {
   "cell_type": "markdown",
   "metadata": {},
   "source": [
    "Видно, что изрядное количество главных страниц сайтов содержат большое количество страниц следующих уровней, что не облегчает задачу.\n",
    "\n",
    "Посмотрим содержимое других таблиц."
   ]
  },
  {
   "cell_type": "code",
   "execution_count": 94,
   "metadata": {},
   "outputs": [
    {
     "data": {
      "text/html": [
       "<div>\n",
       "<style scoped>\n",
       "    .dataframe tbody tr th:only-of-type {\n",
       "        vertical-align: middle;\n",
       "    }\n",
       "\n",
       "    .dataframe tbody tr th {\n",
       "        vertical-align: top;\n",
       "    }\n",
       "\n",
       "    .dataframe thead th {\n",
       "        text-align: right;\n",
       "    }\n",
       "</style>\n",
       "<table border=\"1\" class=\"dataframe\">\n",
       "  <thead>\n",
       "    <tr style=\"text-align: right;\">\n",
       "      <th></th>\n",
       "      <th>id</th>\n",
       "      <th>value</th>\n",
       "    </tr>\n",
       "  </thead>\n",
       "  <tbody>\n",
       "    <tr>\n",
       "      <th>0</th>\n",
       "      <td>1</td>\n",
       "      <td>collection_development</td>\n",
       "    </tr>\n",
       "    <tr>\n",
       "      <th>1</th>\n",
       "      <td>2</td>\n",
       "      <td>library</td>\n",
       "    </tr>\n",
       "    <tr>\n",
       "      <th>2</th>\n",
       "      <td>3</td>\n",
       "      <td>collection</td>\n",
       "    </tr>\n",
       "    <tr>\n",
       "      <th>3</th>\n",
       "      <td>4</td>\n",
       "      <td>development</td>\n",
       "    </tr>\n",
       "    <tr>\n",
       "      <th>4</th>\n",
       "      <td>5</td>\n",
       "      <td>lesson_plan</td>\n",
       "    </tr>\n",
       "  </tbody>\n",
       "</table>\n",
       "</div>"
      ],
      "text/plain": [
       "   id                   value\n",
       "0   1  collection_development\n",
       "1   2                 library\n",
       "2   3              collection\n",
       "3   4             development\n",
       "4   5             lesson_plan"
      ]
     },
     "execution_count": 94,
     "metadata": {},
     "output_type": "execute_result"
    }
   ],
   "source": [
    "tags = pd.read_table('tags.dat', sep='\\t', encoding='latin-1')\n",
    "tags.head()"
   ]
  },
  {
   "cell_type": "code",
   "execution_count": 4,
   "metadata": {},
   "outputs": [
    {
     "data": {
      "text/html": [
       "<div>\n",
       "<style scoped>\n",
       "    .dataframe tbody tr th:only-of-type {\n",
       "        vertical-align: middle;\n",
       "    }\n",
       "\n",
       "    .dataframe tbody tr th {\n",
       "        vertical-align: top;\n",
       "    }\n",
       "\n",
       "    .dataframe thead th {\n",
       "        text-align: right;\n",
       "    }\n",
       "</style>\n",
       "<table border=\"1\" class=\"dataframe\">\n",
       "  <thead>\n",
       "    <tr style=\"text-align: right;\">\n",
       "      <th></th>\n",
       "      <th>bookmarkID</th>\n",
       "      <th>tagID</th>\n",
       "      <th>tagWeight</th>\n",
       "    </tr>\n",
       "  </thead>\n",
       "  <tbody>\n",
       "    <tr>\n",
       "      <th>0</th>\n",
       "      <td>1</td>\n",
       "      <td>2</td>\n",
       "      <td>276</td>\n",
       "    </tr>\n",
       "    <tr>\n",
       "      <th>1</th>\n",
       "      <td>1</td>\n",
       "      <td>206</td>\n",
       "      <td>48</td>\n",
       "    </tr>\n",
       "    <tr>\n",
       "      <th>2</th>\n",
       "      <td>1</td>\n",
       "      <td>208</td>\n",
       "      <td>165</td>\n",
       "    </tr>\n",
       "    <tr>\n",
       "      <th>3</th>\n",
       "      <td>1</td>\n",
       "      <td>272</td>\n",
       "      <td>55</td>\n",
       "    </tr>\n",
       "    <tr>\n",
       "      <th>4</th>\n",
       "      <td>1</td>\n",
       "      <td>459</td>\n",
       "      <td>67</td>\n",
       "    </tr>\n",
       "  </tbody>\n",
       "</table>\n",
       "</div>"
      ],
      "text/plain": [
       "   bookmarkID  tagID  tagWeight\n",
       "0           1      2        276\n",
       "1           1    206         48\n",
       "2           1    208        165\n",
       "3           1    272         55\n",
       "4           1    459         67"
      ]
     },
     "execution_count": 4,
     "metadata": {},
     "output_type": "execute_result"
    }
   ],
   "source": [
    "bookmark_tags = pd.read_table('bookmark_tags.dat', sep='\\t', encoding='latin-1')\n",
    "bookmark_tags.head()"
   ]
  },
  {
   "cell_type": "code",
   "execution_count": 5,
   "metadata": {},
   "outputs": [
    {
     "data": {
      "text/html": [
       "<div>\n",
       "<style scoped>\n",
       "    .dataframe tbody tr th:only-of-type {\n",
       "        vertical-align: middle;\n",
       "    }\n",
       "\n",
       "    .dataframe tbody tr th {\n",
       "        vertical-align: top;\n",
       "    }\n",
       "\n",
       "    .dataframe thead th {\n",
       "        text-align: right;\n",
       "    }\n",
       "</style>\n",
       "<table border=\"1\" class=\"dataframe\">\n",
       "  <thead>\n",
       "    <tr style=\"text-align: right;\">\n",
       "      <th></th>\n",
       "      <th>userID</th>\n",
       "      <th>bookmarkID</th>\n",
       "      <th>tagID</th>\n",
       "      <th>day</th>\n",
       "      <th>month</th>\n",
       "      <th>year</th>\n",
       "      <th>hour</th>\n",
       "      <th>minute</th>\n",
       "      <th>second</th>\n",
       "    </tr>\n",
       "  </thead>\n",
       "  <tbody>\n",
       "    <tr>\n",
       "      <th>0</th>\n",
       "      <td>8</td>\n",
       "      <td>1</td>\n",
       "      <td>1</td>\n",
       "      <td>8</td>\n",
       "      <td>11</td>\n",
       "      <td>2010</td>\n",
       "      <td>23</td>\n",
       "      <td>29</td>\n",
       "      <td>22</td>\n",
       "    </tr>\n",
       "    <tr>\n",
       "      <th>1</th>\n",
       "      <td>8</td>\n",
       "      <td>2</td>\n",
       "      <td>1</td>\n",
       "      <td>8</td>\n",
       "      <td>11</td>\n",
       "      <td>2010</td>\n",
       "      <td>23</td>\n",
       "      <td>25</td>\n",
       "      <td>59</td>\n",
       "    </tr>\n",
       "    <tr>\n",
       "      <th>2</th>\n",
       "      <td>8</td>\n",
       "      <td>7</td>\n",
       "      <td>1</td>\n",
       "      <td>8</td>\n",
       "      <td>11</td>\n",
       "      <td>2010</td>\n",
       "      <td>18</td>\n",
       "      <td>55</td>\n",
       "      <td>1</td>\n",
       "    </tr>\n",
       "    <tr>\n",
       "      <th>3</th>\n",
       "      <td>8</td>\n",
       "      <td>7</td>\n",
       "      <td>6</td>\n",
       "      <td>8</td>\n",
       "      <td>11</td>\n",
       "      <td>2010</td>\n",
       "      <td>18</td>\n",
       "      <td>55</td>\n",
       "      <td>1</td>\n",
       "    </tr>\n",
       "    <tr>\n",
       "      <th>4</th>\n",
       "      <td>8</td>\n",
       "      <td>7</td>\n",
       "      <td>7</td>\n",
       "      <td>8</td>\n",
       "      <td>11</td>\n",
       "      <td>2010</td>\n",
       "      <td>18</td>\n",
       "      <td>55</td>\n",
       "      <td>1</td>\n",
       "    </tr>\n",
       "  </tbody>\n",
       "</table>\n",
       "</div>"
      ],
      "text/plain": [
       "   userID  bookmarkID  tagID  day  month  year  hour  minute  second\n",
       "0       8           1      1    8     11  2010    23      29      22\n",
       "1       8           2      1    8     11  2010    23      25      59\n",
       "2       8           7      1    8     11  2010    18      55       1\n",
       "3       8           7      6    8     11  2010    18      55       1\n",
       "4       8           7      7    8     11  2010    18      55       1"
      ]
     },
     "execution_count": 5,
     "metadata": {},
     "output_type": "execute_result"
    }
   ],
   "source": [
    "user_taggedbookmarks = pd.read_table('user_taggedbookmarks.dat', encoding='latin-1')\n",
    "user_taggedbookmarks.head()"
   ]
  },
  {
   "cell_type": "code",
   "execution_count": 17,
   "metadata": {},
   "outputs": [
    {
     "data": {
      "text/html": [
       "<div>\n",
       "<style scoped>\n",
       "    .dataframe tbody tr th:only-of-type {\n",
       "        vertical-align: middle;\n",
       "    }\n",
       "\n",
       "    .dataframe tbody tr th {\n",
       "        vertical-align: top;\n",
       "    }\n",
       "\n",
       "    .dataframe thead th {\n",
       "        text-align: right;\n",
       "    }\n",
       "</style>\n",
       "<table border=\"1\" class=\"dataframe\">\n",
       "  <thead>\n",
       "    <tr style=\"text-align: right;\">\n",
       "      <th></th>\n",
       "      <th>userID</th>\n",
       "      <th>contactID</th>\n",
       "      <th>date_day</th>\n",
       "      <th>date_month</th>\n",
       "      <th>date_year</th>\n",
       "      <th>date_hour</th>\n",
       "      <th>date_minute</th>\n",
       "      <th>date_second</th>\n",
       "    </tr>\n",
       "  </thead>\n",
       "  <tbody>\n",
       "    <tr>\n",
       "      <th>0</th>\n",
       "      <td>8</td>\n",
       "      <td>28371</td>\n",
       "      <td>4</td>\n",
       "      <td>10</td>\n",
       "      <td>2010</td>\n",
       "      <td>2</td>\n",
       "      <td>14</td>\n",
       "      <td>19</td>\n",
       "    </tr>\n",
       "    <tr>\n",
       "      <th>1</th>\n",
       "      <td>8</td>\n",
       "      <td>40306</td>\n",
       "      <td>3</td>\n",
       "      <td>10</td>\n",
       "      <td>2010</td>\n",
       "      <td>12</td>\n",
       "      <td>33</td>\n",
       "      <td>9</td>\n",
       "    </tr>\n",
       "    <tr>\n",
       "      <th>2</th>\n",
       "      <td>8</td>\n",
       "      <td>85279</td>\n",
       "      <td>2</td>\n",
       "      <td>10</td>\n",
       "      <td>2010</td>\n",
       "      <td>3</td>\n",
       "      <td>10</td>\n",
       "      <td>48</td>\n",
       "    </tr>\n",
       "    <tr>\n",
       "      <th>3</th>\n",
       "      <td>8</td>\n",
       "      <td>91764</td>\n",
       "      <td>4</td>\n",
       "      <td>10</td>\n",
       "      <td>2010</td>\n",
       "      <td>22</td>\n",
       "      <td>43</td>\n",
       "      <td>47</td>\n",
       "    </tr>\n",
       "    <tr>\n",
       "      <th>4</th>\n",
       "      <td>8</td>\n",
       "      <td>97723</td>\n",
       "      <td>12</td>\n",
       "      <td>10</td>\n",
       "      <td>2010</td>\n",
       "      <td>3</td>\n",
       "      <td>28</td>\n",
       "      <td>33</td>\n",
       "    </tr>\n",
       "  </tbody>\n",
       "</table>\n",
       "</div>"
      ],
      "text/plain": [
       "   userID  contactID  date_day  date_month  date_year  date_hour  date_minute  \\\n",
       "0       8      28371         4          10       2010          2           14   \n",
       "1       8      40306         3          10       2010         12           33   \n",
       "2       8      85279         2          10       2010          3           10   \n",
       "3       8      91764         4          10       2010         22           43   \n",
       "4       8      97723        12          10       2010          3           28   \n",
       "\n",
       "   date_second  \n",
       "0           19  \n",
       "1            9  \n",
       "2           48  \n",
       "3           47  \n",
       "4           33  "
      ]
     },
     "execution_count": 17,
     "metadata": {},
     "output_type": "execute_result"
    }
   ],
   "source": [
    "user_contacts = pd.read_table('user_contacts.dat', encoding='latin-1')\n",
    "user_contacts.head()"
   ]
  },
  {
   "cell_type": "markdown",
   "metadata": {},
   "source": [
    "Получается, что у нас есть пользователи, которые отмечают в закладки какие-то ссылки и присваивают этим ссылкам тэги. Задача рекомендационной системы, в первом приближении, составить для какого-либо пользователя перечень ссылок, которые мы можем ему рекомендовать.\n",
    "\n",
    "Для метода implicit ALS нужна матрица, содержащая измерение, связанное с пользователем и измерение, свзязанное со ссылкой. Примем за основу утверждение, что факт проставления тега подтверждает интерес пользователя к тому или иному сайту. В качестве значений в спарс-матрице возьмем количество тэгов.  "
   ]
  },
  {
   "cell_type": "markdown",
   "metadata": {},
   "source": [
    "Для решения задачи в первом приближении нам нет необходимости использовать все данные. Постороим модель на основе таблицы  user_taggedbookmarks. В качестве значения возьмем количество тегов, выставленных тем или иным пользователем той или иной закладке."
   ]
  },
  {
   "cell_type": "code",
   "execution_count": 95,
   "metadata": {},
   "outputs": [
    {
     "data": {
      "text/html": [
       "<div>\n",
       "<style scoped>\n",
       "    .dataframe tbody tr th:only-of-type {\n",
       "        vertical-align: middle;\n",
       "    }\n",
       "\n",
       "    .dataframe tbody tr th {\n",
       "        vertical-align: top;\n",
       "    }\n",
       "\n",
       "    .dataframe thead th {\n",
       "        text-align: right;\n",
       "    }\n",
       "</style>\n",
       "<table border=\"1\" class=\"dataframe\">\n",
       "  <thead>\n",
       "    <tr style=\"text-align: right;\">\n",
       "      <th></th>\n",
       "      <th>userID</th>\n",
       "      <th>bookmarkID</th>\n",
       "      <th>tagID</th>\n",
       "      <th>day</th>\n",
       "      <th>month</th>\n",
       "      <th>year</th>\n",
       "      <th>hour</th>\n",
       "      <th>minute</th>\n",
       "      <th>second</th>\n",
       "    </tr>\n",
       "  </thead>\n",
       "  <tbody>\n",
       "    <tr>\n",
       "      <th>0</th>\n",
       "      <td>8</td>\n",
       "      <td>1</td>\n",
       "      <td>1</td>\n",
       "      <td>1</td>\n",
       "      <td>1</td>\n",
       "      <td>1</td>\n",
       "      <td>1</td>\n",
       "      <td>1</td>\n",
       "      <td>1</td>\n",
       "    </tr>\n",
       "    <tr>\n",
       "      <th>1</th>\n",
       "      <td>8</td>\n",
       "      <td>2</td>\n",
       "      <td>1</td>\n",
       "      <td>1</td>\n",
       "      <td>1</td>\n",
       "      <td>1</td>\n",
       "      <td>1</td>\n",
       "      <td>1</td>\n",
       "      <td>1</td>\n",
       "    </tr>\n",
       "    <tr>\n",
       "      <th>2</th>\n",
       "      <td>8</td>\n",
       "      <td>7</td>\n",
       "      <td>3</td>\n",
       "      <td>3</td>\n",
       "      <td>3</td>\n",
       "      <td>3</td>\n",
       "      <td>3</td>\n",
       "      <td>3</td>\n",
       "      <td>3</td>\n",
       "    </tr>\n",
       "    <tr>\n",
       "      <th>3</th>\n",
       "      <td>8</td>\n",
       "      <td>8</td>\n",
       "      <td>3</td>\n",
       "      <td>3</td>\n",
       "      <td>3</td>\n",
       "      <td>3</td>\n",
       "      <td>3</td>\n",
       "      <td>3</td>\n",
       "      <td>3</td>\n",
       "    </tr>\n",
       "    <tr>\n",
       "      <th>4</th>\n",
       "      <td>8</td>\n",
       "      <td>9</td>\n",
       "      <td>2</td>\n",
       "      <td>2</td>\n",
       "      <td>2</td>\n",
       "      <td>2</td>\n",
       "      <td>2</td>\n",
       "      <td>2</td>\n",
       "      <td>2</td>\n",
       "    </tr>\n",
       "    <tr>\n",
       "      <th>...</th>\n",
       "      <td>...</td>\n",
       "      <td>...</td>\n",
       "      <td>...</td>\n",
       "      <td>...</td>\n",
       "      <td>...</td>\n",
       "      <td>...</td>\n",
       "      <td>...</td>\n",
       "      <td>...</td>\n",
       "      <td>...</td>\n",
       "    </tr>\n",
       "    <tr>\n",
       "      <th>104794</th>\n",
       "      <td>108035</td>\n",
       "      <td>30987</td>\n",
       "      <td>4</td>\n",
       "      <td>4</td>\n",
       "      <td>4</td>\n",
       "      <td>4</td>\n",
       "      <td>4</td>\n",
       "      <td>4</td>\n",
       "      <td>4</td>\n",
       "    </tr>\n",
       "    <tr>\n",
       "      <th>104795</th>\n",
       "      <td>108035</td>\n",
       "      <td>30989</td>\n",
       "      <td>1</td>\n",
       "      <td>1</td>\n",
       "      <td>1</td>\n",
       "      <td>1</td>\n",
       "      <td>1</td>\n",
       "      <td>1</td>\n",
       "      <td>1</td>\n",
       "    </tr>\n",
       "    <tr>\n",
       "      <th>104796</th>\n",
       "      <td>108035</td>\n",
       "      <td>30990</td>\n",
       "      <td>2</td>\n",
       "      <td>2</td>\n",
       "      <td>2</td>\n",
       "      <td>2</td>\n",
       "      <td>2</td>\n",
       "      <td>2</td>\n",
       "      <td>2</td>\n",
       "    </tr>\n",
       "    <tr>\n",
       "      <th>104797</th>\n",
       "      <td>108035</td>\n",
       "      <td>30993</td>\n",
       "      <td>2</td>\n",
       "      <td>2</td>\n",
       "      <td>2</td>\n",
       "      <td>2</td>\n",
       "      <td>2</td>\n",
       "      <td>2</td>\n",
       "      <td>2</td>\n",
       "    </tr>\n",
       "    <tr>\n",
       "      <th>104798</th>\n",
       "      <td>108035</td>\n",
       "      <td>30994</td>\n",
       "      <td>3</td>\n",
       "      <td>3</td>\n",
       "      <td>3</td>\n",
       "      <td>3</td>\n",
       "      <td>3</td>\n",
       "      <td>3</td>\n",
       "      <td>3</td>\n",
       "    </tr>\n",
       "  </tbody>\n",
       "</table>\n",
       "<p>104799 rows × 9 columns</p>\n",
       "</div>"
      ],
      "text/plain": [
       "        userID  bookmarkID  tagID  day  month  year  hour  minute  second\n",
       "0            8           1      1    1      1     1     1       1       1\n",
       "1            8           2      1    1      1     1     1       1       1\n",
       "2            8           7      3    3      3     3     3       3       3\n",
       "3            8           8      3    3      3     3     3       3       3\n",
       "4            8           9      2    2      2     2     2       2       2\n",
       "...        ...         ...    ...  ...    ...   ...   ...     ...     ...\n",
       "104794  108035       30987      4    4      4     4     4       4       4\n",
       "104795  108035       30989      1    1      1     1     1       1       1\n",
       "104796  108035       30990      2    2      2     2     2       2       2\n",
       "104797  108035       30993      2    2      2     2     2       2       2\n",
       "104798  108035       30994      3    3      3     3     3       3       3\n",
       "\n",
       "[104799 rows x 9 columns]"
      ]
     },
     "execution_count": 95,
     "metadata": {},
     "output_type": "execute_result"
    }
   ],
   "source": [
    "df = user_taggedbookmarks.groupby(by=['userID','bookmarkID'], as_index=False, sort=False).count()\n",
    "df"
   ]
  },
  {
   "cell_type": "code",
   "execution_count": 96,
   "metadata": {},
   "outputs": [
    {
     "data": {
      "text/plain": [
       "Index(['userID', 'bookmarkID', 'tagID', 'day', 'month', 'year', 'hour',\n",
       "       'minute', 'second'],\n",
       "      dtype='object')"
      ]
     },
     "execution_count": 96,
     "metadata": {},
     "output_type": "execute_result"
    }
   ],
   "source": [
    "df.columns"
   ]
  },
  {
   "cell_type": "code",
   "execution_count": 97,
   "metadata": {},
   "outputs": [
    {
     "data": {
      "text/html": [
       "<div>\n",
       "<style scoped>\n",
       "    .dataframe tbody tr th:only-of-type {\n",
       "        vertical-align: middle;\n",
       "    }\n",
       "\n",
       "    .dataframe tbody tr th {\n",
       "        vertical-align: top;\n",
       "    }\n",
       "\n",
       "    .dataframe thead th {\n",
       "        text-align: right;\n",
       "    }\n",
       "</style>\n",
       "<table border=\"1\" class=\"dataframe\">\n",
       "  <thead>\n",
       "    <tr style=\"text-align: right;\">\n",
       "      <th></th>\n",
       "      <th>userID</th>\n",
       "      <th>bookmarkID</th>\n",
       "      <th>tagID</th>\n",
       "    </tr>\n",
       "  </thead>\n",
       "  <tbody>\n",
       "    <tr>\n",
       "      <th>0</th>\n",
       "      <td>8</td>\n",
       "      <td>1</td>\n",
       "      <td>1</td>\n",
       "    </tr>\n",
       "    <tr>\n",
       "      <th>1</th>\n",
       "      <td>8</td>\n",
       "      <td>2</td>\n",
       "      <td>1</td>\n",
       "    </tr>\n",
       "    <tr>\n",
       "      <th>2</th>\n",
       "      <td>8</td>\n",
       "      <td>7</td>\n",
       "      <td>3</td>\n",
       "    </tr>\n",
       "    <tr>\n",
       "      <th>3</th>\n",
       "      <td>8</td>\n",
       "      <td>8</td>\n",
       "      <td>3</td>\n",
       "    </tr>\n",
       "    <tr>\n",
       "      <th>4</th>\n",
       "      <td>8</td>\n",
       "      <td>9</td>\n",
       "      <td>2</td>\n",
       "    </tr>\n",
       "    <tr>\n",
       "      <th>...</th>\n",
       "      <td>...</td>\n",
       "      <td>...</td>\n",
       "      <td>...</td>\n",
       "    </tr>\n",
       "    <tr>\n",
       "      <th>104794</th>\n",
       "      <td>108035</td>\n",
       "      <td>30987</td>\n",
       "      <td>4</td>\n",
       "    </tr>\n",
       "    <tr>\n",
       "      <th>104795</th>\n",
       "      <td>108035</td>\n",
       "      <td>30989</td>\n",
       "      <td>1</td>\n",
       "    </tr>\n",
       "    <tr>\n",
       "      <th>104796</th>\n",
       "      <td>108035</td>\n",
       "      <td>30990</td>\n",
       "      <td>2</td>\n",
       "    </tr>\n",
       "    <tr>\n",
       "      <th>104797</th>\n",
       "      <td>108035</td>\n",
       "      <td>30993</td>\n",
       "      <td>2</td>\n",
       "    </tr>\n",
       "    <tr>\n",
       "      <th>104798</th>\n",
       "      <td>108035</td>\n",
       "      <td>30994</td>\n",
       "      <td>3</td>\n",
       "    </tr>\n",
       "  </tbody>\n",
       "</table>\n",
       "<p>104799 rows × 3 columns</p>\n",
       "</div>"
      ],
      "text/plain": [
       "        userID  bookmarkID  tagID\n",
       "0            8           1      1\n",
       "1            8           2      1\n",
       "2            8           7      3\n",
       "3            8           8      3\n",
       "4            8           9      2\n",
       "...        ...         ...    ...\n",
       "104794  108035       30987      4\n",
       "104795  108035       30989      1\n",
       "104796  108035       30990      2\n",
       "104797  108035       30993      2\n",
       "104798  108035       30994      3\n",
       "\n",
       "[104799 rows x 3 columns]"
      ]
     },
     "execution_count": 97,
     "metadata": {},
     "output_type": "execute_result"
    }
   ],
   "source": [
    "df = df[['userID', 'bookmarkID', 'tagID']]\n",
    "df"
   ]
  },
  {
   "cell_type": "code",
   "execution_count": 98,
   "metadata": {},
   "outputs": [
    {
     "data": {
      "text/plain": [
       "userID        0\n",
       "bookmarkID    0\n",
       "tagID         0\n",
       "dtype: int64"
      ]
     },
     "execution_count": 98,
     "metadata": {},
     "output_type": "execute_result"
    }
   ],
   "source": [
    "df.isna().sum()"
   ]
  },
  {
   "cell_type": "code",
   "execution_count": 177,
   "metadata": {},
   "outputs": [],
   "source": [
    "users_ = list(np.sort(df.userID.unique()))\n",
    "bookmarks_ = list(np.sort(df.bookmarkID.unique()))\n",
    "tags_ = list(df.tagID)"
   ]
  },
  {
   "cell_type": "code",
   "execution_count": 178,
   "metadata": {},
   "outputs": [
    {
     "name": "stdout",
     "output_type": "stream",
     "text": [
      "1867 \n",
      " 69223\n"
     ]
    }
   ],
   "source": [
    "print(len(users_), '\\n', len(bookmarks_))"
   ]
  },
  {
   "cell_type": "code",
   "execution_count": 179,
   "metadata": {},
   "outputs": [],
   "source": [
    "rows = np.array(df.userID)\n",
    "cols = np.array(df.bookmarkID)"
   ]
  },
  {
   "cell_type": "code",
   "execution_count": 180,
   "metadata": {},
   "outputs": [
    {
     "data": {
      "text/plain": [
       "array([8, 8, 8, 8, 8, 8, 8, 8, 8, 8], dtype=int64)"
      ]
     },
     "execution_count": 180,
     "metadata": {},
     "output_type": "execute_result"
    }
   ],
   "source": [
    "rows[:10]"
   ]
  },
  {
   "cell_type": "code",
   "execution_count": 181,
   "metadata": {},
   "outputs": [
    {
     "data": {
      "text/plain": [
       "array([ 1,  2,  7,  8,  9, 10, 11, 14, 15, 16], dtype=int64)"
      ]
     },
     "execution_count": 181,
     "metadata": {},
     "output_type": "execute_result"
    }
   ],
   "source": [
    "cols[:10]"
   ]
  },
  {
   "cell_type": "code",
   "execution_count": 182,
   "metadata": {},
   "outputs": [
    {
     "name": "stdout",
     "output_type": "stream",
     "text": [
      "104799 \n",
      " 104799 \n",
      " 104799\n"
     ]
    }
   ],
   "source": [
    "print(len(rows), '\\n', len(cols), '\\n', len(tags))"
   ]
  },
  {
   "cell_type": "code",
   "execution_count": 183,
   "metadata": {},
   "outputs": [
    {
     "data": {
      "text/plain": [
       "(107254, 108036)"
      ]
     },
     "execution_count": 183,
     "metadata": {},
     "output_type": "execute_result"
    }
   ],
   "source": [
    "df_sparse = sparse.csr_matrix( (tags, (cols, rows)))\n",
    "df_sparse.shape"
   ]
  },
  {
   "cell_type": "code",
   "execution_count": 184,
   "metadata": {},
   "outputs": [],
   "source": [
    "# df_sparse = sparse.csr_matrix( (tags, (cols, rows)), shape=(len(bookmarks), len(users)))\n",
    "\"\"\"Алексей, в чем-то я ошибся, не пойму почему не идет создание матрицы таким способом с уменьшением размерности. \n",
    "Запускал еще раз Ваш ноутбук с лекции, все работает.\n",
    "В примере из документации, аналогичный способ проиллюстрирован, тоже работает\"\"\""
   ]
  },
  {
   "cell_type": "code",
   "execution_count": 186,
   "metadata": {},
   "outputs": [
    {
     "data": {
      "application/vnd.jupyter.widget-view+json": {
       "model_id": "c0001a828ae744a6933220498cce6678",
       "version_major": 2,
       "version_minor": 0
      },
      "text/plain": [
       "HBox(children=(FloatProgress(value=0.0, max=15.0), HTML(value='')))"
      ]
     },
     "metadata": {},
     "output_type": "display_data"
    },
    {
     "name": "stdout",
     "output_type": "stream",
     "text": [
      "\n"
     ]
    }
   ],
   "source": [
    "model = AlternatingLeastSquares(factors=50)\n",
    "model.fit(df_sparse)"
   ]
  },
  {
   "cell_type": "markdown",
   "metadata": {},
   "source": [
    "Посмотрим, что получилось в результате обучения"
   ]
  },
  {
   "cell_type": "code",
   "execution_count": 187,
   "metadata": {},
   "outputs": [
    {
     "data": {
      "text/plain": [
       "array([[ 0.0000000e+00,  0.0000000e+00,  0.0000000e+00, ...,\n",
       "         0.0000000e+00,  0.0000000e+00,  0.0000000e+00],\n",
       "       [ 1.1301860e-02,  1.1619688e-03, -2.6321951e-03, ...,\n",
       "         7.2293211e-04, -1.1716173e-03, -5.4241749e-03],\n",
       "       [ 1.1301858e-02,  1.1619689e-03, -2.6321951e-03, ...,\n",
       "         7.2293205e-04, -1.1716172e-03, -5.4241735e-03],\n",
       "       ...,\n",
       "       [ 1.4946231e-04,  6.3248459e-05,  7.9766694e-05, ...,\n",
       "        -1.9540316e-06,  1.3571480e-04, -8.1286504e-05],\n",
       "       [ 1.4946231e-04,  6.3248444e-05,  7.9766694e-05, ...,\n",
       "        -1.9540294e-06,  1.3571481e-04, -8.1286518e-05],\n",
       "       [ 1.4946230e-04,  6.3248444e-05,  7.9766680e-05, ...,\n",
       "        -1.9540335e-06,  1.3571480e-04, -8.1286504e-05]], dtype=float32)"
      ]
     },
     "execution_count": 187,
     "metadata": {},
     "output_type": "execute_result"
    }
   ],
   "source": [
    "model.item_factors"
   ]
  },
  {
   "cell_type": "markdown",
   "metadata": {},
   "source": [
    "Метод rank_items() выдает ранжированный список от данного на вход списка"
   ]
  },
  {
   "cell_type": "code",
   "execution_count": 188,
   "metadata": {},
   "outputs": [
    {
     "data": {
      "text/plain": [
       "[(14, 0.05666044),\n",
       " (7, 0.045984812),\n",
       " (8, 0.04330638),\n",
       " (9, 0.041138843),\n",
       " (11, 0.037935086),\n",
       " (15, 0.03644275),\n",
       " (16, 0.031013027),\n",
       " (10, 0.025563657),\n",
       " (1, 0.021208446),\n",
       " (2, 0.021208446)]"
      ]
     },
     "execution_count": 188,
     "metadata": {},
     "output_type": "execute_result"
    }
   ],
   "source": [
    "userid = 8\n",
    "bookmarkid = [ 1,  2,  7,  8,  9, 10, 11, 14, 15, 16]\n",
    "model.rank_items(userid=userid, user_items=df_sparse, selected_items=bookmarkid)"
   ]
  },
  {
   "cell_type": "markdown",
   "metadata": {},
   "source": [
    "Метод recommend() возвращает наилучшие рекомендации для заданного пользователя"
   ]
  },
  {
   "cell_type": "code",
   "execution_count": 189,
   "metadata": {},
   "outputs": [],
   "source": [
    "user_items = df_sparse.T.tocsr()\n",
    "recommendations = model.recommend(userid, user_items)"
   ]
  },
  {
   "cell_type": "code",
   "execution_count": 190,
   "metadata": {},
   "outputs": [
    {
     "data": {
      "text/plain": [
       "[(4638, 0.2658788),\n",
       " (14121, 0.21419597),\n",
       " (29077, 0.21280463),\n",
       " (29093, 0.21153024),\n",
       " (29103, 0.19591323),\n",
       " (29105, 0.19351757),\n",
       " (5952, 0.19311675),\n",
       " (29110, 0.1919235),\n",
       " (39473, 0.19121373),\n",
       " (29104, 0.18713593)]"
      ]
     },
     "execution_count": 190,
     "metadata": {},
     "output_type": "execute_result"
    }
   ],
   "source": [
    "recommendations"
   ]
  },
  {
   "cell_type": "code",
   "execution_count": 192,
   "metadata": {},
   "outputs": [
    {
     "data": {
      "text/plain": [
       "array([ 4638, 14121, 29077, 29093, 29103, 29105,  5952, 29110, 39473,\n",
       "       29104])"
      ]
     },
     "execution_count": 192,
     "metadata": {},
     "output_type": "execute_result"
    }
   ],
   "source": [
    "rec_np = np.array(recommendations)\n",
    "rec_np = rec_np[:,0].astype(int)\n",
    "rec_np"
   ]
  },
  {
   "cell_type": "code",
   "execution_count": 198,
   "metadata": {},
   "outputs": [
    {
     "data": {
      "text/plain": [
       "3270                           http://www.voki.com/\n",
       "4212                      http://www.watchknow.org/\n",
       "9887                    http://www.teachertube.com/\n",
       "19839                   http://www.sldirectory.com/\n",
       "19854    http://www.youtube.com/watch?v=-dnL00TdmLY\n",
       "19860                   http://www.search-cube.com/\n",
       "19861                     http://blachan.com/shahi/\n",
       "19862                     http://www.visuwords.com/\n",
       "19866        http://udleditions.cast.org/index.html\n",
       "26777      http://copyrightfriendly.wikispaces.com/\n",
       "Name: url, dtype: object"
      ]
     },
     "execution_count": 198,
     "metadata": {},
     "output_type": "execute_result"
    }
   ],
   "source": [
    "bookmarks[bookmarks['id'].isin(rec_np)].url"
   ]
  },
  {
   "cell_type": "markdown",
   "metadata": {},
   "source": [
    "Таким образом, получили список рекомендованных страниц для пользователя с ид==8"
   ]
  }
 ],
 "metadata": {
  "kernelspec": {
   "display_name": "Python 3",
   "language": "python",
   "name": "python3"
  },
  "language_info": {
   "codemirror_mode": {
    "name": "ipython",
    "version": 3
   },
   "file_extension": ".py",
   "mimetype": "text/x-python",
   "name": "python",
   "nbconvert_exporter": "python",
   "pygments_lexer": "ipython3",
   "version": "3.7.3"
  }
 },
 "nbformat": 4,
 "nbformat_minor": 2
}
